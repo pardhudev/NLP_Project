{
  "nbformat": 4,
  "nbformat_minor": 0,
  "metadata": {
    "colab": {
      "provenance": []
    },
    "kernelspec": {
      "name": "python3",
      "display_name": "Python 3"
    },
    "language_info": {
      "name": "python"
    }
  },
  "cells": [
    {
      "cell_type": "code",
      "execution_count": 12,
      "metadata": {
        "colab": {
          "base_uri": "https://localhost:8080/"
        },
        "id": "jm94f1mmV1-M",
        "outputId": "4efaedf5-473b-4e0c-cd8b-bb06fb66e86b"
      },
      "outputs": [
        {
          "output_type": "stream",
          "name": "stderr",
          "text": [
            "[nltk_data] Downloading package vader_lexicon to /root/nltk_data...\n"
          ]
        },
        {
          "output_type": "execute_result",
          "data": {
            "text/plain": [
              "True"
            ]
          },
          "metadata": {},
          "execution_count": 12
        }
      ],
      "source": [
        "#Healthcare NLP\n",
        "import nltk\n",
        "import pandas as pd\n",
        "from nltk.sentiment import SentimentIntensityAnalyzer\n",
        "nltk.download('vader_lexicon')"
      ]
    },
    {
      "cell_type": "code",
      "source": [
        "df = pd.read_csv('Independent_Medical_Reviews.csv')\n",
        "\n",
        "df[\"Findings\"] = df[\"Findings\"].astype(str)"
      ],
      "metadata": {
        "id": "_c01NW1HdniN"
      },
      "execution_count": 16,
      "outputs": []
    },
    {
      "cell_type": "code",
      "source": [
        "# Create a SentimentIntensityAnalyzer\n",
        "sia = SentimentIntensityAnalyzer()"
      ],
      "metadata": {
        "id": "oyD2zjoIeukT"
      },
      "execution_count": 17,
      "outputs": []
    },
    {
      "cell_type": "code",
      "source": [
        "# Function to get sentiment polarity\n",
        "def get_sentiment(text):\n",
        "    sentiment_score = sia.polarity_scores(text)[\"compound\"]\n",
        "\n",
        "    if sentiment_score >= 0.05:\n",
        "        return \"Positive\"\n",
        "    elif sentiment_score <= -0.05:\n",
        "        return \"Negative\"\n",
        "    else:\n",
        "        return \"Neutral\"\n",
        "\n",
        "# Apply sentiment analysis to the \"Findings\" column\n",
        "df[\"Sentiment\"] = df[\"Findings\"].apply(get_sentiment)\n",
        "\n",
        "# Display the DataFrame with sentiment analysis results\n",
        "print(df[[\"Reference ID\", \"Findings\", \"Sentiment\"]])"
      ],
      "metadata": {
        "colab": {
          "base_uri": "https://localhost:8080/"
        },
        "id": "ikkJaFl1fXlu",
        "outputId": "96aadc49-4157-4e17-ea43-e1460132112f"
      },
      "execution_count": 18,
      "outputs": [
        {
          "output_type": "stream",
          "name": "stdout",
          "text": [
            "      Reference ID                                           Findings  \\\n",
            "0       MN16-22639  Nature of Statutory Criteria/Case Summary: An ...   \n",
            "1       MN16-22638  Nature of Statutory Criteria/Case Summary:  An...   \n",
            "2       MN16-22637  Nature of Statutory Criteria/Case Summary:  Th...   \n",
            "3       EI16-22636  Nature of Statutory Criteria/Case Summary: An ...   \n",
            "4        EI06-5319  Physician 1: The patient is a 62-year-old male...   \n",
            "...            ...                                                ...   \n",
            "19240       MN01-7  The parents of a 17-year-old male requested a ...   \n",
            "19241       MN01-6  A 46-year-old male requested Penlac lacquer fo...   \n",
            "19242       MN01-5  A 46-year-old female requested an orthoscopic ...   \n",
            "19243       MN01-4  A 24-year-old female requested a bilateral bre...   \n",
            "19244       EI01-3  A male requested participation in a Phase I st...   \n",
            "\n",
            "      Sentiment  \n",
            "0      Positive  \n",
            "1      Negative  \n",
            "2      Positive  \n",
            "3      Positive  \n",
            "4      Negative  \n",
            "...         ...  \n",
            "19240  Negative  \n",
            "19241  Negative  \n",
            "19242  Negative  \n",
            "19243  Negative  \n",
            "19244  Negative  \n",
            "\n",
            "[19245 rows x 3 columns]\n"
          ]
        }
      ]
    }
  ]
}